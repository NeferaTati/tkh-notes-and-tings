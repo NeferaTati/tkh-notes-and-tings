{
  "cells": [
    {
      "cell_type": "markdown",
      "metadata": {
        "id": "view-in-github",
        "colab_type": "text"
      },
      "source": [
        "<a href=\"https://colab.research.google.com/github/NeferaTati/tkh-notes-and-tings/blob/main/python_advanced_practice.ipynb\" target=\"_parent\"><img src=\"https://colab.research.google.com/assets/colab-badge.svg\" alt=\"Open In Colab\"/></a>"
      ]
    },
    {
      "cell_type": "markdown",
      "metadata": {
        "id": "huKgt4Eer_qX"
      },
      "source": [
        "## List Comprehension 1\n",
        "\n",
        "Implement the following for-loops with list-comprehension."
      ]
    },
    {
      "cell_type": "code",
      "execution_count": 15,
      "metadata": {
        "id": "iZNqaJmxr_qc",
        "outputId": "13306b65-81c4-41fb-c9d6-6826eeed29d8",
        "colab": {
          "base_uri": "https://localhost:8080/"
        }
      },
      "outputs": [
        {
          "output_type": "stream",
          "name": "stdout",
          "text": [
            "[3, 6, 9, 12, 15, 18]\n"
          ]
        }
      ],
      "source": [
        "nums = [1,2,3,4,5,6,7,8,9,10,11,12,13,14,15,16,17,18,19,20]\n",
        "\n",
        "div_3 = []\n",
        "for n in nums:\n",
        "    if n % 3 == 0:\n",
        "        div_3.append(n)\n",
        "\n",
        "# write list comprehension here\n",
        "div_3 = [n for n in nums if n % 3 == 0]\n",
        "print(div_3)"
      ]
    },
    {
      "cell_type": "code",
      "execution_count": 34,
      "metadata": {
        "id": "dUS4o6qGr_qf",
        "outputId": "caf6de24-ce11-4fa1-e923-fe43c9552409",
        "colab": {
          "base_uri": "https://localhost:8080/"
        }
      },
      "outputs": [
        {
          "output_type": "stream",
          "name": "stdout",
          "text": [
            "[2, 4, 6, 8, 10, 12, 14, 16, 18, 20]\n"
          ]
        }
      ],
      "source": [
        "div_5 = []\n",
        "for n in nums:\n",
        "    if n % 5 == 0:\n",
        "        div_5.append(n)\n",
        "\n",
        "# write list comprehension here\n",
        "div_5 = [n for n in nums if n % 2 == 0 ]\n",
        "print(div_5)"
      ]
    },
    {
      "cell_type": "code",
      "source": [],
      "metadata": {
        "id": "ounRayndwkqb"
      },
      "execution_count": null,
      "outputs": []
    },
    {
      "cell_type": "code",
      "execution_count": 17,
      "metadata": {
        "id": "5N9UQYx7r_qg",
        "outputId": "f0a5f940-3525-4aa2-80e3-a310b91628df",
        "colab": {
          "base_uri": "https://localhost:8080/"
        }
      },
      "outputs": [
        {
          "output_type": "stream",
          "name": "stdout",
          "text": [
            "['Amazon bought IMDB', 'Amazon bought Audible']\n"
          ]
        }
      ],
      "source": [
        "articles = [\n",
        "    \"Amazon bought IMDB\",\n",
        "    \"Amazon bought Audible\",\n",
        "    \"Meta bought Instagram\"\n",
        "]\n",
        "\n",
        "amzn_news = []\n",
        "for title in articles:\n",
        "    if \"Amazon\" in title:\n",
        "        amzn_news.append(title)\n",
        "\n",
        "# write list comprehension here\n",
        "amzn_news = [title for title in articles if \"Amazon\" in title]\n",
        "print(amzn_news)"
      ]
    },
    {
      "cell_type": "code",
      "execution_count": 19,
      "metadata": {
        "id": "k5Tzx8P-r_qg",
        "outputId": "808bc6fa-1495-479c-d860-53c41c8e0872",
        "colab": {
          "base_uri": "https://localhost:8080/"
        }
      },
      "outputs": [
        {
          "output_type": "stream",
          "name": "stdout",
          "text": [
            "['Meta bought Instagram']\n"
          ]
        }
      ],
      "source": [
        "meta_news = []\n",
        "for title in articles:\n",
        "    if \"Meta\" in title:\n",
        "        meta_news.append(title)\n",
        "\n",
        "# write list comprehension here\n",
        "meta_news = [title for title in articles if \"Meta\" in title ]\n",
        "print(meta_news)"
      ]
    },
    {
      "cell_type": "markdown",
      "metadata": {
        "id": "zoSEiftlr_qh"
      },
      "source": [
        "## List Comprehension 2\n",
        "\n",
        "Implement the following list-comprehension prompts for scratch"
      ]
    },
    {
      "cell_type": "code",
      "execution_count": 8,
      "metadata": {
        "id": "vavC5Hvar_qi",
        "outputId": "fc1e2727-a066-483a-cbab-27b0306b7d8d",
        "colab": {
          "base_uri": "https://localhost:8080/"
        }
      },
      "outputs": [
        {
          "output_type": "stream",
          "name": "stdout",
          "text": [
            "['Z', 'Y', 'X']\n"
          ]
        }
      ],
      "source": [
        "letters = [\"z\", \"y\", \"x\"]\n",
        "# write list comprehension to capitalize all letters of the above list\n",
        "\n",
        "Bigl = [k.upper() for k in letters]\n",
        "print(Bigl)"
      ]
    },
    {
      "cell_type": "code",
      "execution_count": 11,
      "metadata": {
        "id": "_ToxuOc6r_qj",
        "outputId": "e646b101-0bda-443c-b010-e71e4807fce6",
        "colab": {
          "base_uri": "https://localhost:8080/"
        }
      },
      "outputs": [
        {
          "output_type": "stream",
          "name": "stdout",
          "text": [
            "[1, 2, 3]\n"
          ]
        }
      ],
      "source": [
        "chars = [\"1\", \"2\", \"3\"]\n",
        "# write list comprehension to transform all str integers int ints\n",
        "phars = [int(cs) for cs in chars]\n",
        "print(phars)"
      ]
    },
    {
      "cell_type": "code",
      "execution_count": 25,
      "metadata": {
        "id": "zFhvQIzNr_ql",
        "outputId": "f50049ea-a6e6-40f5-968b-2254c2856823",
        "colab": {
          "base_uri": "https://localhost:8080/"
        }
      },
      "outputs": [
        {
          "output_type": "stream",
          "name": "stdout",
          "text": [
            "[0, 2, 4]\n"
          ]
        }
      ],
      "source": [
        "chars = [1,2,3,4]\n",
        "# write list comprehension to get only even numbers\n",
        "evens = [w for w in range(0,6,2)]\n",
        "print(evens)"
      ]
    },
    {
      "cell_type": "code",
      "execution_count": 43,
      "metadata": {
        "id": "60pOcJMOr_qn",
        "outputId": "cecdd36e-1c52-48b1-820e-f6b2f7ccc837",
        "colab": {
          "base_uri": "https://localhost:8080/"
        }
      },
      "outputs": [
        {
          "output_type": "stream",
          "name": "stdout",
          "text": [
            "[3]\n"
          ]
        }
      ],
      "source": [
        "chars = [1,2,3,4]\n",
        "# write list comprehension to get only odd numbers\n",
        "odd = [w for w in  chars if w % 3 == 0]\n",
        "print(odd)"
      ]
    },
    {
      "cell_type": "markdown",
      "metadata": {
        "id": "cm4dkjKdr_qo"
      },
      "source": [
        "## Loops & 2D Data-Structs\n",
        "\n",
        "Implement the following prompts in the comments below in relation to the data-structure that we are given."
      ]
    },
    {
      "cell_type": "code",
      "execution_count": 6,
      "metadata": {
        "id": "k7lwvYhXr_qp",
        "outputId": "5095d5fe-96b3-4f7e-908e-2bff940d4613",
        "colab": {
          "base_uri": "https://localhost:8080/",
          "height": 133
        }
      },
      "outputs": [
        {
          "output_type": "error",
          "ename": "SyntaxError",
          "evalue": "ignored",
          "traceback": [
            "\u001b[0;36m  File \u001b[0;32m\"<ipython-input-6-c9f7a34fac54>\"\u001b[0;36m, line \u001b[0;32m14\u001b[0m\n\u001b[0;31m    for y in row\u001b[0m\n\u001b[0m                ^\u001b[0m\n\u001b[0;31mSyntaxError\u001b[0m\u001b[0;31m:\u001b[0m invalid syntax\n"
          ]
        }
      ],
      "source": [
        "matrix = [\n",
        "    [1, 2, 3],\n",
        "    [4, 5, 6],\n",
        "    [7, 8, 9]\n",
        "]\n",
        "\n",
        "# print out each row of this list using a for-loop\n",
        "\n",
        "#trix = [c for c in matrix if c in c == y]\n",
        "#print(trix)\n",
        "\n",
        "\n",
        "for row in matrix :\n",
        "  for y in row\n",
        "    print(int(y))"
      ]
    },
    {
      "cell_type": "code",
      "execution_count": null,
      "metadata": {
        "id": "CvjbN8j1r_qq"
      },
      "outputs": [],
      "source": [
        "matrix = [\n",
        "    [1, 2, 3],\n",
        "    [4, 5, 6],\n",
        "    [7, 8, 9]\n",
        "]\n",
        "\n",
        "# print out each integer of each row using a for-loop\n"
      ]
    },
    {
      "cell_type": "markdown",
      "metadata": {
        "id": "QNrvljGNr_qr"
      },
      "source": [
        "## Exceptions\n",
        "\n",
        "Implement a try-except block within this code to ensure that we add `10` only to the integers of this list. Otherwise, print out an error message that you've encountered a string in the list."
      ]
    },
    {
      "cell_type": "code",
      "execution_count": 3,
      "metadata": {
        "id": "AsELw0wJr_qs",
        "outputId": "be63989c-b902-4b24-8dea-e030cc457a50",
        "colab": {
          "base_uri": "https://localhost:8080/"
        }
      },
      "outputs": [
        {
          "output_type": "stream",
          "name": "stdout",
          "text": [
            "[11]\n",
            "[12]\n",
            "[13]\n",
            "invaild message\n",
            "[15]\n",
            "[16]\n",
            "invaild message\n",
            "invaild message\n",
            "invaild message\n",
            "[11]\n",
            "[12]\n",
            "[13]\n",
            "[15]\n",
            "[16]\n"
          ]
        }
      ],
      "source": [
        "data = [1, 2, 3, \"a\", 5, 6, \"b\", \"c\", \"d\"]\n",
        "\n",
        "for num in data:\n",
        "   try: \n",
        "    add_10 = [int(num + 10)]\n",
        "    print(add_10)\n",
        "   except:\n",
        "    print(\"invaild message\")\n",
        "\n",
        "\n",
        "for num in data :\n",
        "  if isinstance(num,int):\n",
        "    add_10 = [int(num + 10)]\n",
        "    print(add_10)\n",
        "    # implement try-except block here\n",
        "\n"
      ]
    }
  ],
  "metadata": {
    "kernelspec": {
      "display_name": "Python 3.10.7 64-bit",
      "language": "python",
      "name": "python3"
    },
    "language_info": {
      "codemirror_mode": {
        "name": "ipython",
        "version": 3
      },
      "file_extension": ".py",
      "mimetype": "text/x-python",
      "name": "python",
      "nbconvert_exporter": "python",
      "pygments_lexer": "ipython3",
      "version": "3.10.7"
    },
    "orig_nbformat": 4,
    "vscode": {
      "interpreter": {
        "hash": "369f2c481f4da34e4445cda3fffd2e751bd1c4d706f27375911949ba6bb62e1c"
      }
    },
    "colab": {
      "provenance": [],
      "include_colab_link": true
    }
  },
  "nbformat": 4,
  "nbformat_minor": 0
}